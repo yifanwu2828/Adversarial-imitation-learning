{
 "cells": [
  {
   "cell_type": "code",
   "execution_count": 1,
   "source": [
    "\n",
    "import numpy as np\n",
    "import pandas as pd\n",
    "from sklearn import preprocessing \n",
    "import matplotlib.pyplot as plt\n",
    "%matplotlib inline"
   ],
   "outputs": [],
   "metadata": {}
  },
  {
   "cell_type": "code",
   "execution_count": 2,
   "source": [
    "def smooth(scalars, weight: float)-> list:  # Weight between 0 and 1\n",
    "    \"\"\"\n",
    "    exponential moving average\n",
    "    Tensorboard-like smoothing\n",
    "    \"\"\"\n",
    "    last = scalars[0]  # First value in the plot (first timestep)\n",
    "    smoothed = []\n",
    "    for point in scalars:\n",
    "        smoothed_val = last * weight + (1 - weight) * point  # Calculate smoothed value\n",
    "        smoothed.append(smoothed_val)                        # Save it\n",
    "        last = smoothed_val                                  # Anchor the last smoothed value\n",
    "\n",
    "    return smoothed"
   ],
   "outputs": [],
   "metadata": {}
  },
  {
   "cell_type": "code",
   "execution_count": 3,
   "source": [
    "def removeOutliers(x, outlierConstant=1.5) -> list:\n",
    "    arr = np.asarray(x)\n",
    "    upper_quartile = np.percentile(arr, 75)\n",
    "    lower_quartile = np.percentile(arr, 25)\n",
    "    IQR = (upper_quartile - lower_quartile) * outlierConstant\n",
    "    quartileSet = (lower_quartile - IQR, upper_quartile + IQR)\n",
    "\n",
    "    result = arr[np.where((arr >= quartileSet[0]) & (arr <= quartileSet[1]))]\n",
    "\n",
    "    return result.tolist()"
   ],
   "outputs": [],
   "metadata": {}
  },
  {
   "cell_type": "code",
   "execution_count": 4,
   "source": [
    "# env_id = \"HalfCheetah-v2\"\n",
    "# env_id = \"Hopper-v3\"\n",
    "env_id = \"NavEnv-v0\"\n",
    "\n",
    "agent_df = pd.read_csv(f'{env_id}/{env_id}_results.csv')\n",
    "expert_df = pd.read_csv(f'{env_id}/{env_id}_expert.csv')"
   ],
   "outputs": [],
   "metadata": {}
  },
  {
   "cell_type": "code",
   "execution_count": 39,
   "source": [
    "a = pd.read_csv(\"absorbing.csv\")\n",
    "a.head()"
   ],
   "outputs": [
    {
     "output_type": "execute_result",
     "data": {
      "text/html": [
       "<div>\n",
       "<style scoped>\n",
       "    .dataframe tbody tr th:only-of-type {\n",
       "        vertical-align: middle;\n",
       "    }\n",
       "\n",
       "    .dataframe tbody tr th {\n",
       "        vertical-align: top;\n",
       "    }\n",
       "\n",
       "    .dataframe thead th {\n",
       "        text-align: right;\n",
       "    }\n",
       "</style>\n",
       "<table border=\"1\" class=\"dataframe\">\n",
       "  <thead>\n",
       "    <tr style=\"text-align: right;\">\n",
       "      <th></th>\n",
       "      <th>global_step</th>\n",
       "      <th>GAIL-v0_abs_new_finite - _step</th>\n",
       "      <th>GAIL-v0_abs_new_finite - _step__MIN</th>\n",
       "      <th>GAIL-v0_abs_new_finite - _step__MAX</th>\n",
       "      <th>GAIL-v0_abs_new_finite - return/test/ep_rew_mean</th>\n",
       "      <th>GAIL-v0_abs_new_finite - return/test/ep_rew_mean__MIN</th>\n",
       "      <th>GAIL-v0_abs_new_finite - return/test/ep_rew_mean__MAX</th>\n",
       "      <th>GAIL-v0_abs_new_infinite - _step</th>\n",
       "      <th>GAIL-v0_abs_new_infinite - _step__MIN</th>\n",
       "      <th>GAIL-v0_abs_new_infinite - _step__MAX</th>\n",
       "      <th>GAIL-v0_abs_new_infinite - return/test/ep_rew_mean</th>\n",
       "      <th>GAIL-v0_abs_new_infinite - return/test/ep_rew_mean__MIN</th>\n",
       "      <th>GAIL-v0_abs_new_infinite - return/test/ep_rew_mean__MAX</th>\n",
       "      <th>GAIL-v0_off_samp - _step</th>\n",
       "      <th>GAIL-v0_off_samp - _step__MIN</th>\n",
       "      <th>GAIL-v0_off_samp - _step__MAX</th>\n",
       "      <th>GAIL-v0_off_samp - return/test/ep_rew_mean</th>\n",
       "      <th>GAIL-v0_off_samp - return/test/ep_rew_mean__MIN</th>\n",
       "      <th>GAIL-v0_off_samp - return/test/ep_rew_mean__MAX</th>\n",
       "    </tr>\n",
       "  </thead>\n",
       "  <tbody>\n",
       "    <tr>\n",
       "      <th>0</th>\n",
       "      <td>10000</td>\n",
       "      <td>0</td>\n",
       "      <td>0</td>\n",
       "      <td>0</td>\n",
       "      <td>16.693550</td>\n",
       "      <td>16.693550</td>\n",
       "      <td>16.693550</td>\n",
       "      <td>0</td>\n",
       "      <td>0</td>\n",
       "      <td>0</td>\n",
       "      <td>16.502131</td>\n",
       "      <td>16.502131</td>\n",
       "      <td>16.502131</td>\n",
       "      <td>0</td>\n",
       "      <td>0</td>\n",
       "      <td>0</td>\n",
       "      <td>283.443756</td>\n",
       "      <td>283.443756</td>\n",
       "      <td>283.443756</td>\n",
       "    </tr>\n",
       "    <tr>\n",
       "      <th>1</th>\n",
       "      <td>15000</td>\n",
       "      <td>3</td>\n",
       "      <td>3</td>\n",
       "      <td>3</td>\n",
       "      <td>101.166557</td>\n",
       "      <td>101.166557</td>\n",
       "      <td>101.166557</td>\n",
       "      <td>3</td>\n",
       "      <td>3</td>\n",
       "      <td>3</td>\n",
       "      <td>8.924406</td>\n",
       "      <td>8.924406</td>\n",
       "      <td>8.924406</td>\n",
       "      <td>3</td>\n",
       "      <td>3</td>\n",
       "      <td>3</td>\n",
       "      <td>235.022003</td>\n",
       "      <td>235.022003</td>\n",
       "      <td>235.022003</td>\n",
       "    </tr>\n",
       "    <tr>\n",
       "      <th>2</th>\n",
       "      <td>20000</td>\n",
       "      <td>6</td>\n",
       "      <td>6</td>\n",
       "      <td>6</td>\n",
       "      <td>342.611755</td>\n",
       "      <td>342.611755</td>\n",
       "      <td>342.611755</td>\n",
       "      <td>6</td>\n",
       "      <td>6</td>\n",
       "      <td>6</td>\n",
       "      <td>785.904968</td>\n",
       "      <td>785.904968</td>\n",
       "      <td>785.904968</td>\n",
       "      <td>6</td>\n",
       "      <td>6</td>\n",
       "      <td>6</td>\n",
       "      <td>166.493179</td>\n",
       "      <td>166.493179</td>\n",
       "      <td>166.493179</td>\n",
       "    </tr>\n",
       "    <tr>\n",
       "      <th>3</th>\n",
       "      <td>25000</td>\n",
       "      <td>9</td>\n",
       "      <td>9</td>\n",
       "      <td>9</td>\n",
       "      <td>336.826904</td>\n",
       "      <td>336.826904</td>\n",
       "      <td>336.826904</td>\n",
       "      <td>9</td>\n",
       "      <td>9</td>\n",
       "      <td>9</td>\n",
       "      <td>399.491577</td>\n",
       "      <td>399.491577</td>\n",
       "      <td>399.491577</td>\n",
       "      <td>9</td>\n",
       "      <td>9</td>\n",
       "      <td>9</td>\n",
       "      <td>387.067627</td>\n",
       "      <td>387.067627</td>\n",
       "      <td>387.067627</td>\n",
       "    </tr>\n",
       "    <tr>\n",
       "      <th>4</th>\n",
       "      <td>30000</td>\n",
       "      <td>12</td>\n",
       "      <td>12</td>\n",
       "      <td>12</td>\n",
       "      <td>524.355469</td>\n",
       "      <td>524.355469</td>\n",
       "      <td>524.355469</td>\n",
       "      <td>12</td>\n",
       "      <td>12</td>\n",
       "      <td>12</td>\n",
       "      <td>376.994019</td>\n",
       "      <td>376.994019</td>\n",
       "      <td>376.994019</td>\n",
       "      <td>12</td>\n",
       "      <td>12</td>\n",
       "      <td>12</td>\n",
       "      <td>273.841980</td>\n",
       "      <td>273.841980</td>\n",
       "      <td>273.841980</td>\n",
       "    </tr>\n",
       "  </tbody>\n",
       "</table>\n",
       "</div>"
      ],
      "text/plain": [
       "   global_step  GAIL-v0_abs_new_finite - _step  \\\n",
       "0        10000                               0   \n",
       "1        15000                               3   \n",
       "2        20000                               6   \n",
       "3        25000                               9   \n",
       "4        30000                              12   \n",
       "\n",
       "   GAIL-v0_abs_new_finite - _step__MIN  GAIL-v0_abs_new_finite - _step__MAX  \\\n",
       "0                                    0                                    0   \n",
       "1                                    3                                    3   \n",
       "2                                    6                                    6   \n",
       "3                                    9                                    9   \n",
       "4                                   12                                   12   \n",
       "\n",
       "   GAIL-v0_abs_new_finite - return/test/ep_rew_mean  \\\n",
       "0                                         16.693550   \n",
       "1                                        101.166557   \n",
       "2                                        342.611755   \n",
       "3                                        336.826904   \n",
       "4                                        524.355469   \n",
       "\n",
       "   GAIL-v0_abs_new_finite - return/test/ep_rew_mean__MIN  \\\n",
       "0                                          16.693550       \n",
       "1                                         101.166557       \n",
       "2                                         342.611755       \n",
       "3                                         336.826904       \n",
       "4                                         524.355469       \n",
       "\n",
       "   GAIL-v0_abs_new_finite - return/test/ep_rew_mean__MAX  \\\n",
       "0                                          16.693550       \n",
       "1                                         101.166557       \n",
       "2                                         342.611755       \n",
       "3                                         336.826904       \n",
       "4                                         524.355469       \n",
       "\n",
       "   GAIL-v0_abs_new_infinite - _step  GAIL-v0_abs_new_infinite - _step__MIN  \\\n",
       "0                                 0                                      0   \n",
       "1                                 3                                      3   \n",
       "2                                 6                                      6   \n",
       "3                                 9                                      9   \n",
       "4                                12                                     12   \n",
       "\n",
       "   GAIL-v0_abs_new_infinite - _step__MAX  \\\n",
       "0                                      0   \n",
       "1                                      3   \n",
       "2                                      6   \n",
       "3                                      9   \n",
       "4                                     12   \n",
       "\n",
       "   GAIL-v0_abs_new_infinite - return/test/ep_rew_mean  \\\n",
       "0                                          16.502131    \n",
       "1                                           8.924406    \n",
       "2                                         785.904968    \n",
       "3                                         399.491577    \n",
       "4                                         376.994019    \n",
       "\n",
       "   GAIL-v0_abs_new_infinite - return/test/ep_rew_mean__MIN  \\\n",
       "0                                          16.502131         \n",
       "1                                           8.924406         \n",
       "2                                         785.904968         \n",
       "3                                         399.491577         \n",
       "4                                         376.994019         \n",
       "\n",
       "   GAIL-v0_abs_new_infinite - return/test/ep_rew_mean__MAX  \\\n",
       "0                                          16.502131         \n",
       "1                                           8.924406         \n",
       "2                                         785.904968         \n",
       "3                                         399.491577         \n",
       "4                                         376.994019         \n",
       "\n",
       "   GAIL-v0_off_samp - _step  GAIL-v0_off_samp - _step__MIN  \\\n",
       "0                         0                              0   \n",
       "1                         3                              3   \n",
       "2                         6                              6   \n",
       "3                         9                              9   \n",
       "4                        12                             12   \n",
       "\n",
       "   GAIL-v0_off_samp - _step__MAX  GAIL-v0_off_samp - return/test/ep_rew_mean  \\\n",
       "0                              0                                  283.443756   \n",
       "1                              3                                  235.022003   \n",
       "2                              6                                  166.493179   \n",
       "3                              9                                  387.067627   \n",
       "4                             12                                  273.841980   \n",
       "\n",
       "   GAIL-v0_off_samp - return/test/ep_rew_mean__MIN  \\\n",
       "0                                       283.443756   \n",
       "1                                       235.022003   \n",
       "2                                       166.493179   \n",
       "3                                       387.067627   \n",
       "4                                       273.841980   \n",
       "\n",
       "   GAIL-v0_off_samp - return/test/ep_rew_mean__MAX  \n",
       "0                                       283.443756  \n",
       "1                                       235.022003  \n",
       "2                                       166.493179  \n",
       "3                                       387.067627  \n",
       "4                                       273.841980  "
      ]
     },
     "metadata": {},
     "execution_count": 39
    }
   ],
   "metadata": {}
  },
  {
   "cell_type": "code",
   "execution_count": 40,
   "source": [
    "a.columns"
   ],
   "outputs": [
    {
     "output_type": "execute_result",
     "data": {
      "text/plain": [
       "Index(['global_step', 'GAIL-v0_abs_new_finite - _step',\n",
       "       'GAIL-v0_abs_new_finite - _step__MIN',\n",
       "       'GAIL-v0_abs_new_finite - _step__MAX',\n",
       "       'GAIL-v0_abs_new_finite - return/test/ep_rew_mean',\n",
       "       'GAIL-v0_abs_new_finite - return/test/ep_rew_mean__MIN',\n",
       "       'GAIL-v0_abs_new_finite - return/test/ep_rew_mean__MAX',\n",
       "       'GAIL-v0_abs_new_infinite - _step',\n",
       "       'GAIL-v0_abs_new_infinite - _step__MIN',\n",
       "       'GAIL-v0_abs_new_infinite - _step__MAX',\n",
       "       'GAIL-v0_abs_new_infinite - return/test/ep_rew_mean',\n",
       "       'GAIL-v0_abs_new_infinite - return/test/ep_rew_mean__MIN',\n",
       "       'GAIL-v0_abs_new_infinite - return/test/ep_rew_mean__MAX',\n",
       "       'GAIL-v0_off_samp - _step', 'GAIL-v0_off_samp - _step__MIN',\n",
       "       'GAIL-v0_off_samp - _step__MAX',\n",
       "       'GAIL-v0_off_samp - return/test/ep_rew_mean',\n",
       "       'GAIL-v0_off_samp - return/test/ep_rew_mean__MIN',\n",
       "       'GAIL-v0_off_samp - return/test/ep_rew_mean__MAX'],\n",
       "      dtype='object')"
      ]
     },
     "metadata": {},
     "execution_count": 40
    }
   ],
   "metadata": {}
  },
  {
   "cell_type": "code",
   "execution_count": 46,
   "source": [
    "# plt.plot(a[\"global_step\"], a[\"GAIL-v0_abs_new_finite - return/test/ep_rew_mean\"], label='finite horizon')\n",
    "plt.plot(a[\"global_step\"], a[\"GAIL-v0_abs_new_infinite - return/test/ep_rew_mean\"], label='GAIL + absorbing states(infinite horizon)')\n",
    "plt.plot(a[\"global_step\"], a[\"GAIL-v0_off_samp - return/test/ep_rew_mean\"], label='GAIL Baseline')\n",
    "plt.xlabel('Steps')\n",
    "plt.xlim(0, 1000_000)\n",
    "plt.ylabel('Mean Episode Reward')\n",
    "plt.legend()\n",
    "plt.show()"
   ],
   "outputs": [
    {
     "output_type": "display_data",
     "data": {
      "image/png": "[encoded data removed]",
      "text/plain": [
       "<Figure size 432x288 with 1 Axes>"
      ]
     },
     "metadata": {
      "needs_background": "light"
     }
    }
   ],
   "metadata": {}
  },
  {
   "cell_type": "code",
   "execution_count": 5,
   "source": [
    "agent_df.head()\n",
    "t_agent = agent_df[\"global_step\"]\n",
    "t_expert = expert_df[\"global_step\"]"
   ],
   "outputs": [],
   "metadata": {}
  },
  {
   "cell_type": "code",
   "execution_count": 6,
   "source": [
    "\n",
    "agent_rews = np.array(agent_df[\"Grouped runs - return/test/ep_rew_mean\"]).copy()\n",
    "expert_rews = np.array(expert_df[\"Grouped runs - return/test/ep_rew_mean\"]).copy()\n",
    "                        # HalfCheetah-v2/sac/seed0-20210722-0035 - return/test/ep_rew_mean\"]"
   ],
   "outputs": [],
   "metadata": {}
  },
  {
   "cell_type": "code",
   "execution_count": 7,
   "source": [
    "weight = 0.0 # No Smoothing\n",
    "# weight = 0.6\n",
    "smoothed_expert_rews = np.asarray(smooth(expert_rews, weight=weight)).reshape(-1, 1)\n",
    "smoothed_agent_rews = np.asarray(smooth(agent_rews, weight=weight)).reshape(-1, 1)"
   ],
   "outputs": [],
   "metadata": {}
  },
  {
   "cell_type": "code",
   "execution_count": 8,
   "source": [
    "\n",
    "plt.plot(t_expert, smoothed_expert_rews, label='expert')\n",
    "plt.plot(t_agent, smoothed_agent_rews, label='agent')\n",
    "plt.title(env_id)\n",
    "plt.xlabel('Steps')\n",
    "plt.ylabel('Reward')\n",
    "plt.legend()\n",
    "plt.grid(True)\n",
    "plt.show()"
   ],
   "outputs": [
    {
     "output_type": "display_data",
     "data": {
      "image/png": "[encoded data removed]",
      "text/plain": [
       "<Figure size 432x288 with 1 Axes>"
      ]
     },
     "metadata": {
      "needs_background": "light"
     }
    }
   ],
   "metadata": {}
  },
  {
   "cell_type": "code",
   "execution_count": 9,
   "source": [
    "scaler = preprocessing.MinMaxScaler()\n",
    "scaler.fit(smoothed_expert_rews)\n",
    "print(scaler.data_min_, scaler.data_max_)\n",
    "expert_scale = scaler.transform(smoothed_expert_rews)\n",
    "agent_scale = scaler.transform(smoothed_agent_rews)\n"
   ],
   "outputs": [
    {
     "output_type": "stream",
     "name": "stdout",
     "text": [
      "[-914.12046305] [-43.35468928]\n"
     ]
    }
   ],
   "metadata": {}
  },
  {
   "cell_type": "code",
   "execution_count": null,
   "source": [],
   "outputs": [],
   "metadata": {}
  },
  {
   "cell_type": "code",
   "execution_count": 10,
   "source": [
    "\n",
    "# plt.plot(t_expert, expert_scale, label='expert')\n",
    "plt.plot(t_agent, agent_scale, label='agent')\n",
    "plt.plot(t_agent, np.ones_like(t_agent, dtype=np.int8), '--')\n",
    "plt.title(env_id)\n",
    "plt.xlabel('Steps')\n",
    "plt.ylabel('Score')\n",
    "plt.legend()\n",
    "plt.grid()\n",
    "plt.show()"
   ],
   "outputs": [
    {
     "output_type": "display_data",
     "data": {
      "image/png": "[encoded data removed]",
      "text/plain": [
       "<Figure size 432x288 with 1 Axes>"
      ]
     },
     "metadata": {
      "needs_background": "light"
     }
    }
   ],
   "metadata": {}
  },
  {
   "cell_type": "code",
   "execution_count": null,
   "source": [],
   "outputs": [],
   "metadata": {}
  }
 ],
 "metadata": {
  "orig_nbformat": 4,
  "language_info": {
   "name": "python",
   "version": "3.9.5",
   "mimetype": "text/x-python",
   "codemirror_mode": {
    "name": "ipython",
    "version": 3
   },
   "pygments_lexer": "ipython3",
   "nbconvert_exporter": "python",
   "file_extension": ".py"
  },
  "kernelspec": {
   "name": "python3",
   "display_name": "Python 3.9.5 64-bit ('venv': venv)"
  },
  "interpreter": {
   "hash": "b66a98063942e2683135291dce5fd704616ba199cba1d32cb72a54fb1f05f4ed"
  }
 },
 "nbformat": 4,
 "nbformat_minor": 2
}